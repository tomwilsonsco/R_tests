{
 "cells": [
  {
   "cell_type": "code",
   "execution_count": 1,
   "metadata": {},
   "outputs": [],
   "source": [
    "#Import modules required\n",
    "import ee\n",
    "ee.Initialize()\n",
    "import random\n",
    "import os"
   ]
  },
  {
   "cell_type": "code",
   "execution_count": 2,
   "metadata": {},
   "outputs": [],
   "source": [
    "#Set test location\n",
    "location = 'Scotland2016'#'Kielder' #'Dumfries', 'Thetford' 'SouthEng' 'GB' 'Scotland2016'"
   ]
  },
  {
   "cell_type": "markdown",
   "metadata": {},
   "source": [
    "#### Create / replace folder as GEE Asset"
   ]
  },
  {
   "cell_type": "code",
   "execution_count": 7,
   "metadata": {},
   "outputs": [
    {
     "data": {
      "text/plain": [
       "0"
      ]
     },
     "execution_count": 7,
     "metadata": {},
     "output_type": "execute_result"
    }
   ],
   "source": [
    "#Clear any existing training testing points in that asset folder\n",
    "os.system('earthengine rm -r users/tomw_ee/{0}/TrainingTesting'.format(location))\n",
    "os.system('earthengine create folder users/tomw_ee/{0}/TrainingTesting'.format(location))"
   ]
  },
  {
   "cell_type": "markdown",
   "metadata": {},
   "source": [
    "## Data preparation functions"
   ]
  },
  {
   "cell_type": "code",
   "execution_count": 3,
   "metadata": {},
   "outputs": [],
   "source": [
    "#Set the rate of point sampling of training polygons\n",
    "POINTS_PER_POLY_AREA_FELLED = 0.0001\n",
    "POINTS_PER_POLY_AREA_MATURE = 0.0001\n",
    "\n",
    "#Functions to prepare and export training and testing points\n",
    "def createPointsFelled(f):\n",
    "    return ee.FeatureCollection.randomPoints(f.geometry(), \\\n",
    "    f.area().multiply(POINTS_PER_POLY_AREA_FELLED).round(), ee.Number(f.get('random')).multiply(10000).int())\\\n",
    "    .map(lambda f : f.set('TYPE_CODE', 1))\n",
    "\n",
    "def createPointsMature(f):\n",
    "    return ee.FeatureCollection.randomPoints(f.geometry(), \\\n",
    "    f.area().multiply(POINTS_PER_POLY_AREA_MATURE).round(), ee.Number(f.get('random')).multiply(10000).int())\\\n",
    "    .map(lambda f : f.set('TYPE_CODE', 0))\n",
    "\n",
    "def bufferPoly(f):\n",
    "    return f.buffer(-10)\n",
    "\n",
    "def export_shapes(fc, output_file_name):\n",
    "    task=ee.batch.Export.table.toAsset(\n",
    "            collection=fc,\n",
    "            assetId = \"users/tomw_ee/{0}/TrainingTesting/\".format(location)+output_file_name,\n",
    "            description = output_file_name)\n",
    "    task.start()"
   ]
  },
  {
   "cell_type": "markdown",
   "metadata": {},
   "source": [
    "Output training and test sample points"
   ]
  },
  {
   "cell_type": "code",
   "execution_count": 4,
   "metadata": {},
   "outputs": [],
   "source": [
    "#Ensure classes contain approximately balanced numbers of felled / mature trees \n",
    "def balanceSets(fc):\n",
    "    tree = fc.filter(ee.Filter.eq('TYPE_CODE', 0))\n",
    "    fell = fc.filter(ee.Filter.eq('TYPE_CODE', 1))\n",
    "    p =(fell.size().divide(tree.size()))\n",
    "    tree = tree.randomColumn('random')\n",
    "    tree = tree.filter(ee.Filter.lt('random', p))\n",
    "    p2 =(tree.size().divide(fell.size()))\n",
    "    fell = fell.randomColumn('random')\n",
    "    fell = fell.filter(ee.Filter.lt('random', p2))\n",
    "    return tree.merge(fell)"
   ]
  },
  {
   "cell_type": "code",
   "execution_count": 5,
   "metadata": {},
   "outputs": [],
   "source": [
    "#Function to create the samples\n",
    "def generateSamples(v):\n",
    "    felled = ee.FeatureCollection('users/tomw_ee/{0}/{0}_felled'.format(location))\n",
    "    mature = ee.FeatureCollection('users/tomw_ee/{0}/{0}_mature'.format(location))\n",
    "\n",
    "    felled = felled.randomColumn('random',random.randint(0, 9999))\n",
    "    mature = mature.randomColumn('random',random.randint(0, 9999))\n",
    "\n",
    "    felledTrain = felled.filter(ee.Filter.lessThan('random', 0.7))\n",
    "    felledTest = felled.filter(ee.Filter.greaterThanOrEquals('random', 0.7))\n",
    "\n",
    "    matureTrain = mature.filter(ee.Filter.lessThan('random', 0.7))\n",
    "    matureTest = mature.filter(ee.Filter.greaterThanOrEquals('random', 0.7))\n",
    "\n",
    "    felledTrain = felledTrain.map(bufferPoly)\n",
    "    matureTrain = matureTrain.map(bufferPoly)\n",
    "\n",
    "    felledTest = felledTest.map(bufferPoly)\n",
    "    matureTest = matureTest.map(bufferPoly)\n",
    "    \n",
    "    trainingSet = felledTrain.map(createPointsFelled).flatten().merge(matureTrain.map(createPointsMature).flatten())\n",
    "    testingSet = felledTest.map(createPointsFelled).flatten().merge(matureTest.map(createPointsMature).flatten())\n",
    "    trainingSet = balanceSets(trainingSet)\n",
    "    testingSet = balanceSets(testingSet)\n",
    "    \n",
    "    export_shapes(trainingSet, 'trainingSet{0}_{1}'.format(location,v))\n",
    "    export_shapes(testingSet, 'testingSet{0}_{1}'.format(location,v))"
   ]
  },
  {
   "cell_type": "code",
   "execution_count": 8,
   "metadata": {},
   "outputs": [],
   "source": [
    "#Number of sets of training / testing data to generate using different test/ train splits\n",
    "NUMBER_OF_TESTS = 10\n",
    "\n",
    "for i in range(1, NUMBER_OF_TESTS+1):\n",
    "    generateSamples(i)"
   ]
  }
 ],
 "metadata": {
  "kernelspec": {
   "display_name": "Python 3",
   "language": "python",
   "name": "python3"
  },
  "language_info": {
   "codemirror_mode": {
    "name": "ipython",
    "version": 3
   },
   "file_extension": ".py",
   "mimetype": "text/x-python",
   "name": "python",
   "nbconvert_exporter": "python",
   "pygments_lexer": "ipython3",
   "version": "3.6.4"
  }
 },
 "nbformat": 4,
 "nbformat_minor": 2
}
